{
  "nbformat": 4,
  "nbformat_minor": 0,
  "metadata": {
    "colab": {
      "name": "curl.ipynb",
      "provenance": [],
      "authorship_tag": "ABX9TyP0P62OP9MSZwsMLcWTA2uQ",
      "include_colab_link": true
    },
    "kernelspec": {
      "name": "python3",
      "display_name": "Python 3"
    }
  },
  "cells": [
    {
      "cell_type": "markdown",
      "metadata": {
        "id": "view-in-github",
        "colab_type": "text"
      },
      "source": [
        "<a href=\"https://colab.research.google.com/github/MRestrepo08/Calculus/blob/main/curl.ipynb\" target=\"_parent\"><img src=\"https://colab.research.google.com/assets/colab-badge.svg\" alt=\"Open In Colab\"/></a>"
      ]
    },
    {
      "cell_type": "code",
      "metadata": {
        "id": "GtuLMCuxPShd"
      },
      "source": [
        "import numpy as np\n",
        "from sympy import *\n",
        "x, y, z = symbols('x y z')\n",
        "init_printing()"
      ],
      "execution_count": 1,
      "outputs": []
    },
    {
      "cell_type": "code",
      "metadata": {
        "id": "yFjeAkw5POMm",
        "colab": {
          "base_uri": "https://localhost:8080/",
          "height": 39
        },
        "outputId": "f8db8b30-9951-4fee-a639-3fff566dcd8b"
      },
      "source": [
        "p = x**2+y**2\n",
        "q = (x-y)*(1-x*y)\n",
        "r = y**3+3*x**2*y-6*x**2-6*y**2+2\n",
        "[p,q,r]"
      ],
      "execution_count": 3,
      "outputs": [
        {
          "output_type": "execute_result",
          "data": {
            "image/png": "[encoded data removed]",
            "text/latex": "$\\displaystyle \\left[ x^{2} + y^{2}, \\  \\left(x - y\\right) \\left(- x y + 1\\right), \\  3 x^{2} y - 6 x^{2} + y^{3} - 6 y^{2} + 2\\right]$",
            "text/plain": [
              "⎡ 2    2                         2        2    3      2    ⎤\n",
              "⎣x  + y , (x - y)⋅(-x⋅y + 1), 3⋅x ⋅y - 6⋅x  + y  - 6⋅y  + 2⎦"
            ]
          },
          "metadata": {
            "tags": []
          },
          "execution_count": 3
        }
      ]
    },
    {
      "cell_type": "code",
      "metadata": {
        "id": "tq-nTlxiQQNp"
      },
      "source": [
        "dpy = diff(p,y)\n",
        "dpz = diff(p,z)\n",
        "dqx = diff(q,x)\n",
        "dqz = diff(q,z)\n",
        "drx = diff(r,x)\n",
        "dry = diff(r,y)"
      ],
      "execution_count": 4,
      "outputs": []
    },
    {
      "cell_type": "code",
      "metadata": {
        "id": "ralYEfAXQoSS",
        "colab": {
          "base_uri": "https://localhost:8080/",
          "height": 39
        },
        "outputId": "8f6d7d5b-2103-413c-8e90-bda94da6c101"
      },
      "source": [
        "rot = [dry-dqz, dpz-drx, dqx-dpy]\n",
        "rot"
      ],
      "execution_count": 5,
      "outputs": [
        {
          "output_type": "execute_result",
          "data": {
            "image/png": "[encoded data removed]",
            "text/latex": "$\\displaystyle \\left[ 3 x^{2} + 3 y^{2} - 12 y, \\  - 6 x y + 12 x, \\  - x y - y \\left(x - y\\right) - 2 y + 1\\right]$",
            "text/plain": [
              "⎡   2      2                                                  ⎤\n",
              "⎣3⋅x  + 3⋅y  - 12⋅y, -6⋅x⋅y + 12⋅x, -x⋅y - y⋅(x - y) - 2⋅y + 1⎦"
            ]
          },
          "metadata": {
            "tags": []
          },
          "execution_count": 5
        }
      ]
    },
    {
      "cell_type": "code",
      "metadata": {
        "id": "qbcdZNQLZ-gQ"
      },
      "source": [
        "div = diff(p,x)+diff(q,y)+diff(r,z)"
      ],
      "execution_count": 6,
      "outputs": []
    },
    {
      "cell_type": "code",
      "metadata": {
        "id": "6byyzpWTeNaI",
        "colab": {
          "base_uri": "https://localhost:8080/",
          "height": 39
        },
        "outputId": "76e3011f-c0ed-4714-b71a-a27ced29ce4d"
      },
      "source": [
        "div"
      ],
      "execution_count": 7,
      "outputs": [
        {
          "output_type": "execute_result",
          "data": {
            "image/png": "[encoded data removed]",
            "text/latex": "$\\displaystyle x y - x \\left(x - y\\right) + 2 x - 1$",
            "text/plain": [
              "x⋅y - x⋅(x - y) + 2⋅x - 1"
            ]
          },
          "metadata": {
            "tags": []
          },
          "execution_count": 7
        }
      ]
    },
    {
      "cell_type": "code",
      "metadata": {
        "id": "ivyPQ1hi4qqa"
      },
      "source": [
        "def curl(F):\n",
        "  rot = [diff(F[2],y)-diff(F[1],z), diff(F[0],z)-diff(F[2],x), diff(F[1],x)-diff(F[0],y)]\n",
        "  return rot"
      ],
      "execution_count": 10,
      "outputs": []
    },
    {
      "cell_type": "code",
      "metadata": {
        "id": "oeFnW0RP5Ti2"
      },
      "source": [
        "F = [x**2+y**2,(x-y)*(1-x*y),y**3+3*x**2*y-6*x**2-6*y**2+2]"
      ],
      "execution_count": 11,
      "outputs": []
    },
    {
      "cell_type": "code",
      "metadata": {
        "id": "Hg63pXDn5anX",
        "colab": {
          "base_uri": "https://localhost:8080/",
          "height": 39
        },
        "outputId": "6bb6b1d0-f91c-4f35-c686-1c94e0c621f6"
      },
      "source": [
        "curl(F)"
      ],
      "execution_count": 12,
      "outputs": [
        {
          "output_type": "execute_result",
          "data": {
            "image/png": "[encoded data removed]",
            "text/latex": "$\\displaystyle \\left[ 3 x^{2} + 3 y^{2} - 12 y, \\  - 6 x y + 12 x, \\  - x y - y \\left(x - y\\right) - 2 y + 1\\right]$",
            "text/plain": [
              "⎡   2      2                                                  ⎤\n",
              "⎣3⋅x  + 3⋅y  - 12⋅y, -6⋅x⋅y + 12⋅x, -x⋅y - y⋅(x - y) - 2⋅y + 1⎦"
            ]
          },
          "metadata": {
            "tags": []
          },
          "execution_count": 12
        }
      ]
    }
  ]
}