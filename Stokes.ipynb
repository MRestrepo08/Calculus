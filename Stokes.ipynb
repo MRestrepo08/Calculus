{
  "nbformat": 4,
  "nbformat_minor": 0,
  "metadata": {
    "colab": {
      "name": "Stokes.ipynb",
      "provenance": [],
      "authorship_tag": "ABX9TyOnHr5OHpLYtmbdZtzW0uGA",
      "include_colab_link": true
    },
    "kernelspec": {
      "name": "python3",
      "display_name": "Python 3"
    },
    "language_info": {
      "name": "python"
    }
  },
  "cells": [
    {
      "cell_type": "markdown",
      "metadata": {
        "id": "view-in-github",
        "colab_type": "text"
      },
      "source": [
        "<a href=\"https://colab.research.google.com/github/MRestrepo08/Calculus/blob/main/Stokes.ipynb\" target=\"_parent\"><img src=\"https://colab.research.google.com/assets/colab-badge.svg\" alt=\"Open In Colab\"/></a>"
      ]
    },
    {
      "cell_type": "code",
      "metadata": {
        "id": "xX8Br75EeVLK"
      },
      "source": [
        "import numpy as np\n",
        "from sympy import *"
      ],
      "execution_count": 12,
      "outputs": []
    },
    {
      "cell_type": "code",
      "metadata": {
        "id": "i7ayk_aCqCPF"
      },
      "source": [
        "from sympy.abc import r, x, y, z, theta, phi\n",
        "from sympy.vector import curl, divergence"
      ],
      "execution_count": 13,
      "outputs": []
    },
    {
      "cell_type": "code",
      "metadata": {
        "id": "7V6d4qMFfzLA"
      },
      "source": [
        "from sympy.vector import CoordSys3D, ParametricRegion, ImplicitRegion, vector_integrate"
      ],
      "execution_count": 14,
      "outputs": []
    },
    {
      "cell_type": "code",
      "metadata": {
        "id": "VTyshlnNwaJv"
      },
      "source": [
        "C = CoordSys3D('C')"
      ],
      "execution_count": 15,
      "outputs": []
    },
    {
      "cell_type": "markdown",
      "metadata": {
        "id": "slBcMiLy212B"
      },
      "source": [
        "**Ejemplo 7.4 de las notas**"
      ]
    },
    {
      "cell_type": "markdown",
      "metadata": {
        "id": "97BpOoV0XyTi"
      },
      "source": [
        "Campo F = (x^2z, xy^2, z^2)"
      ]
    },
    {
      "cell_type": "code",
      "metadata": {
        "id": "DuUp-Mh_wQss",
        "colab": {
          "base_uri": "https://localhost:8080/",
          "height": 38
        },
        "outputId": "8a381f30-e111-4f9e-9c30-c9feff6e6d0e"
      },
      "source": [
        "F = C.x**2*C.z*C.i + C.x*C.y**2*C.j + C.z**2*C.k\n",
        "F"
      ],
      "execution_count": 16,
      "outputs": [
        {
          "output_type": "execute_result",
          "data": {
            "text/latex": "$\\displaystyle (\\mathbf{{x}_{C}}^{2} \\mathbf{{z}_{C}})\\mathbf{\\hat{i}_{C}} + (\\mathbf{{x}_{C}} \\mathbf{{y}_{C}}^{2})\\mathbf{\\hat{j}_{C}} + (\\mathbf{{z}_{C}}^{2})\\mathbf{\\hat{k}_{C}}$",
            "text/plain": [
              "C.x**2*C.z*C.i + C.x*C.y**2*C.j + C.z**2*C.k"
            ]
          },
          "metadata": {
            "tags": []
          },
          "execution_count": 16
        }
      ]
    },
    {
      "cell_type": "code",
      "metadata": {
        "colab": {
          "base_uri": "https://localhost:8080/",
          "height": 38
        },
        "id": "oS_pclUv0GpH",
        "outputId": "452a7820-b5e7-4faa-f1fb-403b39bcca20"
      },
      "source": [
        "curl(F)"
      ],
      "execution_count": 17,
      "outputs": [
        {
          "output_type": "execute_result",
          "data": {
            "text/latex": "$\\displaystyle (\\mathbf{{x}_{C}}^{2})\\mathbf{\\hat{j}_{C}} + (\\mathbf{{y}_{C}}^{2})\\mathbf{\\hat{k}_{C}}$",
            "text/plain": [
              "C.x**2*C.j + C.y**2*C.k"
            ]
          },
          "metadata": {
            "tags": []
          },
          "execution_count": 17
        }
      ]
    },
    {
      "cell_type": "code",
      "metadata": {
        "colab": {
          "base_uri": "https://localhost:8080/",
          "height": 37
        },
        "id": "ogazPJw11v_Q",
        "outputId": "be9d85b7-5e14-4da8-f0d2-eb7b779d00b3"
      },
      "source": [
        "divergence(F)"
      ],
      "execution_count": 18,
      "outputs": [
        {
          "output_type": "execute_result",
          "data": {
            "text/latex": "$\\displaystyle 2 \\mathbf{{x}_{C}} \\mathbf{{y}_{C}} + 2 \\mathbf{{x}_{C}} \\mathbf{{z}_{C}} + 2 \\mathbf{{z}_{C}}$",
            "text/plain": [
              "2*C.x*C.y + 2*C.x*C.z + 2*C.z"
            ]
          },
          "metadata": {
            "tags": []
          },
          "execution_count": 18
        }
      ]
    },
    {
      "cell_type": "code",
      "metadata": {
        "id": "qz8Nn9lwo7qa"
      },
      "source": [
        "curve = ParametricRegion((3*cos(theta), 3*sin(theta),1-3*cos(theta)-3*sin(theta)), (theta, 0, 2*pi))"
      ],
      "execution_count": 19,
      "outputs": []
    },
    {
      "cell_type": "code",
      "metadata": {
        "id": "RVmMN8b2pB_z"
      },
      "source": [
        "surface = ParametricRegion((r*cos(theta), r*sin(theta),1-r*cos(theta)-r*sin(theta)), (r, 0, 3), (theta, 0, 2*pi))"
      ],
      "execution_count": 20,
      "outputs": []
    },
    {
      "cell_type": "code",
      "metadata": {
        "colab": {
          "base_uri": "https://localhost:8080/",
          "height": 51
        },
        "id": "146G9MBmpahM",
        "outputId": "12cae3ac-4d9d-478d-f27a-e213dc94932e"
      },
      "source": [
        "vector_integrate(F, curve)"
      ],
      "execution_count": 21,
      "outputs": [
        {
          "output_type": "execute_result",
          "data": {
            "text/latex": "$\\displaystyle \\frac{81 \\pi}{2}$",
            "text/plain": [
              "81*pi/2"
            ]
          },
          "metadata": {
            "tags": []
          },
          "execution_count": 21
        }
      ]
    },
    {
      "cell_type": "code",
      "metadata": {
        "colab": {
          "base_uri": "https://localhost:8080/",
          "height": 51
        },
        "id": "T21DnDa7ef3D",
        "outputId": "29711ff1-e724-4eb2-b50c-a7aadd02f2cb"
      },
      "source": [
        "vector_integrate(curl(F), surface)"
      ],
      "execution_count": 22,
      "outputs": [
        {
          "output_type": "execute_result",
          "data": {
            "text/latex": "$\\displaystyle \\frac{81 \\pi}{2}$",
            "text/plain": [
              "81*pi/2"
            ]
          },
          "metadata": {
            "tags": []
          },
          "execution_count": 22
        }
      ]
    }
  ]
}