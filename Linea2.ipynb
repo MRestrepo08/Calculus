{
  "nbformat": 4,
  "nbformat_minor": 0,
  "metadata": {
    "colab": {
      "name": "Linea2.ipynb",
      "provenance": [],
      "authorship_tag": "ABX9TyMXaKjmIs5LPffoCbI5Qu4Y",
      "include_colab_link": true
    },
    "kernelspec": {
      "name": "python3",
      "display_name": "Python 3"
    },
    "language_info": {
      "name": "python"
    }
  },
  "cells": [
    {
      "cell_type": "markdown",
      "metadata": {
        "id": "view-in-github",
        "colab_type": "text"
      },
      "source": [
        "<a href=\"https://colab.research.google.com/github/MRestrepo08/Calculus/blob/main/Linea2.ipynb\" target=\"_parent\"><img src=\"https://colab.research.google.com/assets/colab-badge.svg\" alt=\"Open In Colab\"/></a>"
      ]
    },
    {
      "cell_type": "code",
      "metadata": {
        "id": "xX8Br75EeVLK"
      },
      "source": [
        "from sympy import *"
      ],
      "execution_count": 1,
      "outputs": []
    },
    {
      "cell_type": "code",
      "metadata": {
        "id": "i7ayk_aCqCPF"
      },
      "source": [
        "from sympy.abc import r, x, y, z, theta, phi\n",
        "#from sympy.vector import curl, divergence"
      ],
      "execution_count": 2,
      "outputs": []
    },
    {
      "cell_type": "code",
      "metadata": {
        "id": "7V6d4qMFfzLA"
      },
      "source": [
        "from sympy.vector import CoordSys3D, ParametricRegion, ImplicitRegion, vector_integrate"
      ],
      "execution_count": 3,
      "outputs": []
    },
    {
      "cell_type": "code",
      "metadata": {
        "id": "VTyshlnNwaJv"
      },
      "source": [
        "C = CoordSys3D('C')"
      ],
      "execution_count": 4,
      "outputs": []
    },
    {
      "cell_type": "markdown",
      "metadata": {
        "id": "slBcMiLy212B"
      },
      "source": [
        "**Integral de linea**"
      ]
    },
    {
      "cell_type": "markdown",
      "metadata": {
        "id": "AOkuHMAfU4Ex"
      },
      "source": [
        "F = (z - y, x + z, x + y)"
      ]
    },
    {
      "cell_type": "code",
      "metadata": {
        "id": "DuUp-Mh_wQss",
        "colab": {
          "base_uri": "https://localhost:8080/",
          "height": 38
        },
        "outputId": "1658f55b-0c39-4c29-e81b-53d8cf67fe8a"
      },
      "source": [
        "F = (C.z - C.x)*C.i + (C.x + C.z)*C.j+ (C.x + C.y)*C.k\n",
        "F"
      ],
      "execution_count": 11,
      "outputs": [
        {
          "output_type": "execute_result",
          "data": {
            "text/latex": "$\\displaystyle (- \\mathbf{{x}_{C}} + \\mathbf{{z}_{C}})\\mathbf{\\hat{i}_{C}} + (\\mathbf{{x}_{C}} + \\mathbf{{z}_{C}})\\mathbf{\\hat{j}_{C}} + (\\mathbf{{x}_{C}} + \\mathbf{{y}_{C}})\\mathbf{\\hat{k}_{C}}$",
            "text/plain": [
              "(-C.x + C.z)*C.i + (C.x + C.z)*C.j + (C.x + C.y)*C.k"
            ]
          },
          "metadata": {
            "tags": []
          },
          "execution_count": 11
        }
      ]
    },
    {
      "cell_type": "markdown",
      "metadata": {
        "id": "HDrVeScVVEvF"
      },
      "source": [
        "Curva x^2 + y^2 = 4, z = 2"
      ]
    },
    {
      "cell_type": "code",
      "metadata": {
        "id": "qz8Nn9lwo7qa"
      },
      "source": [
        "curve = ParametricRegion((2*cos(theta), 2*sin(theta),2), (theta, 0, 2*pi))"
      ],
      "execution_count": 12,
      "outputs": []
    },
    {
      "cell_type": "code",
      "metadata": {
        "colab": {
          "base_uri": "https://localhost:8080/",
          "height": 39
        },
        "id": "146G9MBmpahM",
        "outputId": "f78ee535-42b8-4a69-8678-cb1273d090ef"
      },
      "source": [
        "vector_integrate(F, curve)"
      ],
      "execution_count": 13,
      "outputs": [
        {
          "output_type": "execute_result",
          "data": {
            "text/latex": "$\\displaystyle 4 \\pi$",
            "text/plain": [
              "4*pi"
            ]
          },
          "metadata": {
            "tags": []
          },
          "execution_count": 13
        }
      ]
    }
  ]
}