{
  "nbformat": 4,
  "nbformat_minor": 0,
  "metadata": {
    "colab": {
      "name": "LineaIntegral1.ipynb",
      "provenance": [],
      "authorship_tag": "ABX9TyObknaGpguaMGfPiClvYGBe",
      "include_colab_link": true
    },
    "kernelspec": {
      "name": "python3",
      "display_name": "Python 3"
    },
    "language_info": {
      "name": "python"
    }
  },
  "cells": [
    {
      "cell_type": "markdown",
      "metadata": {
        "id": "view-in-github",
        "colab_type": "text"
      },
      "source": [
        "<a href=\"https://colab.research.google.com/github/MRestrepo08/Calculus/blob/main/LineaIntegral1.ipynb\" target=\"_parent\"><img src=\"https://colab.research.google.com/assets/colab-badge.svg\" alt=\"Open In Colab\"/></a>"
      ]
    },
    {
      "cell_type": "markdown",
      "metadata": {
        "id": "-nmNT9OHqPsI"
      },
      "source": [
        "Line Integral for a scalar field f(x, y)"
      ]
    },
    {
      "cell_type": "code",
      "metadata": {
        "id": "xX8Br75EeVLK"
      },
      "source": [
        "import numpy as np\n",
        "from sympy import Curve, line_integrate, exp, ln, cos, sin, pi"
      ],
      "execution_count": 1,
      "outputs": []
    },
    {
      "cell_type": "code",
      "metadata": {
        "id": "7V6d4qMFfzLA"
      },
      "source": [
        "from sympy.abc import x, y, t"
      ],
      "execution_count": 2,
      "outputs": []
    },
    {
      "cell_type": "code",
      "metadata": {
        "id": "0QhZmYFWg5O_"
      },
      "source": [
        "C = Curve([cos(t), sin(t)], (t, 0, pi))"
      ],
      "execution_count": 3,
      "outputs": []
    },
    {
      "cell_type": "code",
      "metadata": {
        "colab": {
          "base_uri": "https://localhost:8080/",
          "height": 37
        },
        "id": "T21DnDa7ef3D",
        "outputId": "0f82611f-f111-4845-b1bb-50d5d23998d0"
      },
      "source": [
        "line_integrate(x*y**4, C, [x, y])"
      ],
      "execution_count": 4,
      "outputs": [
        {
          "output_type": "execute_result",
          "data": {
            "text/latex": "$\\displaystyle 0$",
            "text/plain": [
              "0"
            ]
          },
          "metadata": {
            "tags": []
          },
          "execution_count": 4
        }
      ]
    }
  ]
}